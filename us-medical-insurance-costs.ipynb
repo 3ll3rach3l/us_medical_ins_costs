{
 "cells": [
  {
   "cell_type": "markdown",
   "metadata": {},
   "source": [
    "# U.S. Medical Insurance Costs"
   ]
  },
  {
   "cell_type": "code",
   "execution_count": 1,
   "metadata": {},
   "outputs": [],
   "source": [
    "#import CSV library\n",
    "import csv #this will allow us to work with our dataset"
   ]
  },
  {
   "cell_type": "markdown",
   "metadata": {},
   "source": [
    "## scoping the project\n",
    "-- what is the average age of patients in the dataset?\n",
    "-- where are the majority of individuals from based on age?\n",
    "-- what is the difference in costs between smokers and non-smokers?\n",
    "-- what is the average age of someone with one child?\n",
    "-- what is the average bmi based on region?"
   ]
  },
  {
   "cell_type": "code",
   "execution_count": 5,
   "metadata": {},
   "outputs": [],
   "source": [
    "#creating empty lists for the columns in the dataset\n",
    "ages = []\n",
    "sexes = []\n",
    "bmis = []\n",
    "num_children = []\n",
    "smoker_statuses = []\n",
    "regions = []\n",
    "insurance_charges = []\n"
   ]
  },
  {
   "cell_type": "code",
   "execution_count": 6,
   "metadata": {},
   "outputs": [],
   "source": [
    "#helper function to load insurance.csv\n",
    "def load_list_data(lst, csv_file, column_name):\n",
    "    with open(csv_file) as csv_info:\n",
    "        csv_dict = csv.DictReader(csv_info)\n",
    "        for row in csv_dict:\n",
    "            lst.append(row[column_name])\n",
    "        return lst"
   ]
  },
  {
   "cell_type": "code",
   "execution_count": 8,
   "metadata": {},
   "outputs": [],
   "source": [
    "#look at data in insurance.csv\n",
    "age_lst = load_list_data(ages, 'insurance.csv', 'age')\n",
    "sexes_lst = load_list_data(sexes, 'insurance.csv', 'sex')\n",
    "bmi_lst = load_list_data(bmis, 'insurance.csv', 'bmi')\n",
    "num_children_lst = load_list_data(num_children, 'insurance.csv', 'children')\n",
    "smoker_status_lst = load_list_data(smoker_statuses, 'insurance.csv', 'smoker')\n",
    "regions_lst = load_list_data(regions, 'insurance.csv', 'region')\n",
    "ins_charges_lst = load_list_data(insurance_charges, 'insurance.csv', 'charges')"
   ]
  },
  {
   "cell_type": "code",
   "execution_count": null,
   "metadata": {},
   "outputs": [],
   "source": []
  },
  {
   "cell_type": "code",
   "execution_count": null,
   "metadata": {},
   "outputs": [],
   "source": []
  }
 ],
 "metadata": {
  "kernelspec": {
   "display_name": "Python 3",
   "language": "python",
   "name": "python3"
  },
  "language_info": {
   "codemirror_mode": {
    "name": "ipython",
    "version": 3
   },
   "file_extension": ".py",
   "mimetype": "text/x-python",
   "name": "python",
   "nbconvert_exporter": "python",
   "pygments_lexer": "ipython3",
   "version": "3.8.5"
  }
 },
 "nbformat": 4,
 "nbformat_minor": 4
}
